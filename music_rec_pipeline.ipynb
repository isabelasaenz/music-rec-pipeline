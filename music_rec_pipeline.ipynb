{
  "nbformat": 4,
  "nbformat_minor": 0,
  "metadata": {
    "colab": {
      "provenance": []
    },
    "kernelspec": {
      "name": "python3",
      "display_name": "Python 3"
    },
    "language_info": {
      "name": "python"
    }
  },
  "cells": [
    {
      "cell_type": "markdown",
      "source": [
        "## Music Recommendation ETL Pipeline\n",
        "\n",
        "### How it works\n",
        "\n",
        "Extraction: JSON data containing user preferences is extracted and loaded into the pipeline.\n",
        "\n",
        "Transformation: User preferences are transformed into prompts for music recommendations using GPT-3.\n",
        "\n",
        "Recommendation Generation: The transformed prompts are sent to the GPT-3 API to generate personalized music recommendations.\n",
        "\n",
        "Loading: The generated recommendations are printed for each user.\n",
        "\n",
        "(Ensure you have a valid OpenAI API key assigned to openai.api_key)\n",
        "\n"
      ],
      "metadata": {
        "id": "VzO9VkouORb4"
      }
    },
    {
      "cell_type": "code",
      "source": [
        "!pip install openai"
      ],
      "metadata": {
        "id": "bZdNyowCKO_l"
      },
      "execution_count": null,
      "outputs": []
    },
    {
      "cell_type": "code",
      "source": [
        "import json\n",
        "import openai\n",
        "openai.api_key = 'API_KEY'"
      ],
      "metadata": {
        "colab": {
          "base_uri": "https://localhost:8080/"
        },
        "id": "_85-QfCPFbqZ",
        "outputId": "900fd942-bc3a-4ecb-b6b1-72feb4da0d0c"
      },
      "execution_count": 31,
      "outputs": [
        {
          "output_type": "stream",
          "name": "stdout",
          "text": [
            "Requirement already satisfied: openai in /usr/local/lib/python3.10/dist-packages (0.27.8)\n",
            "Requirement already satisfied: requests>=2.20 in /usr/local/lib/python3.10/dist-packages (from openai) (2.31.0)\n",
            "Requirement already satisfied: tqdm in /usr/local/lib/python3.10/dist-packages (from openai) (4.66.1)\n",
            "Requirement already satisfied: aiohttp in /usr/local/lib/python3.10/dist-packages (from openai) (3.8.5)\n",
            "Requirement already satisfied: charset-normalizer<4,>=2 in /usr/local/lib/python3.10/dist-packages (from requests>=2.20->openai) (3.2.0)\n",
            "Requirement already satisfied: idna<4,>=2.5 in /usr/local/lib/python3.10/dist-packages (from requests>=2.20->openai) (3.4)\n",
            "Requirement already satisfied: urllib3<3,>=1.21.1 in /usr/local/lib/python3.10/dist-packages (from requests>=2.20->openai) (2.0.4)\n",
            "Requirement already satisfied: certifi>=2017.4.17 in /usr/local/lib/python3.10/dist-packages (from requests>=2.20->openai) (2023.7.22)\n",
            "Requirement already satisfied: attrs>=17.3.0 in /usr/local/lib/python3.10/dist-packages (from aiohttp->openai) (23.1.0)\n",
            "Requirement already satisfied: multidict<7.0,>=4.5 in /usr/local/lib/python3.10/dist-packages (from aiohttp->openai) (6.0.4)\n",
            "Requirement already satisfied: async-timeout<5.0,>=4.0.0a3 in /usr/local/lib/python3.10/dist-packages (from aiohttp->openai) (4.0.3)\n",
            "Requirement already satisfied: yarl<2.0,>=1.0 in /usr/local/lib/python3.10/dist-packages (from aiohttp->openai) (1.9.2)\n",
            "Requirement already satisfied: frozenlist>=1.1.1 in /usr/local/lib/python3.10/dist-packages (from aiohttp->openai) (1.4.0)\n",
            "Requirement already satisfied: aiosignal>=1.1.2 in /usr/local/lib/python3.10/dist-packages (from aiohttp->openai) (1.3.1)\n"
          ]
        }
      ]
    },
    {
      "cell_type": "code",
      "execution_count": 32,
      "metadata": {
        "id": "a7WFr_7NC88t"
      },
      "outputs": [],
      "source": [
        "json_content = '''\n",
        "[\n",
        "  {\n",
        "    \"id\": 1,\n",
        "    \"name\": \"Bob\",\n",
        "    \"age\": 22,\n",
        "    \"genre_preference\": \"indie pop\",\n",
        "    \"favorite_bands\": [\"Vampire Weekend, Hippo Campus\"],\n",
        "    \"location\": \"Los Angeles\",\n",
        "    \"recently_attended_concert\": \"Tame Impala\"\n",
        "  },\n",
        "  {\n",
        "    \"id\": 2,\n",
        "    \"name\": \"Charlie\",\n",
        "    \"age\": 30,\n",
        "    \"genre_preference\": \"metal\",\n",
        "    \"favorite_bands\": [\"Metallica\", \"Iron Maiden\"],\n",
        "    \"location\": \"Chicago\",\n",
        "    \"recently_attended_concert\": \"Slayer\"\n",
        "  },\n",
        "  {\n",
        "    \"id\": 3,\n",
        "    \"name\": \"Eva\",\n",
        "    \"age\": 28,\n",
        "    \"genre_preference\": \"pop\",\n",
        "    \"favorite_bands\": [\"Taylor Swift\", \"Ariana Grande\"],\n",
        "    \"location\": \"Miami\",\n",
        "    \"recently_attended_concert\": \"Billie Eilish\"\n",
        "  }\n",
        "]\n",
        "'''"
      ]
    },
    {
      "cell_type": "code",
      "source": [
        "def extract_data_from_json(json_content):\n",
        "    return json.loads(json_content)\n",
        "\n",
        "def transform_data_for_recommendation(data):\n",
        "    transformed_data = []\n",
        "    for person in data:\n",
        "        genre_preference = person['genre_preference']\n",
        "        favorite_bands = person['favorite_bands']\n",
        "        prompt = f\"Recommend {genre_preference} music similar to {', '.join(favorite_bands)}. Organize it in a list from 1-10\"\n",
        "        transformed_data.append((person, prompt))\n",
        "    return transformed_data\n",
        "\n",
        "def recommend_music(prompt):\n",
        "    response = openai.Completion.create(\n",
        "        engine=\"text-davinci-003\",\n",
        "        prompt=prompt,\n",
        "        max_tokens=50\n",
        "    )\n",
        "    return response.choices[0].text.strip()\n",
        "\n",
        "def load_recommendations(recommendations):\n",
        "    for person, recommendation in recommendations:\n",
        "        print(f\"Music recommendation for {person['name']}: {recommendation}\")\n",
        "\n",
        "def main():\n",
        "    #json_content = '''\n",
        "    #... your JSON here ...\n",
        "    #'''\n",
        "    data = extract_data_from_json(json_content)\n",
        "    transformed_data = transform_data_for_recommendation(data)\n",
        "    recommendations = []\n",
        "    for person, prompt in transformed_data:\n",
        "        recommended_music = recommend_music(prompt)\n",
        "        recommendations.append((person, recommended_music))\n",
        "    load_recommendations(recommendations)\n"
      ],
      "metadata": {
        "id": "abBcc5OBFgFv"
      },
      "execution_count": 36,
      "outputs": []
    },
    {
      "cell_type": "code",
      "source": [
        "if __name__ == \"__main__\":\n",
        "    main()"
      ],
      "metadata": {
        "colab": {
          "base_uri": "https://localhost:8080/"
        },
        "id": "UR34r_EPIAea",
        "outputId": "b3138242-99a4-4ab4-f1a5-137aa5de9776"
      },
      "execution_count": 41,
      "outputs": [
        {
          "output_type": "stream",
          "name": "stdout",
          "text": [
            "Music recommendation for Bob:\n",
            "1. 1. Temples - Hot Motion\n",
            "2. 2. Delamere - Youth\n",
            "3. 3. Wild Nothing - Letting Go\n",
            "4. 4. Tennis - Swimmer\n",
            "5. 5. Ducktails - Map To The Stars\n",
            "6. 6. Real Estate - Talking\n",
            "Music recommendation for Charlie:\n",
            "1. Megadeth\n",
            "2. Judas Priest\n",
            "3. Anthrax\n",
            "4. Slayer\n",
            "5. Pantera\n",
            "6. Kreator\n",
            "7. Overkill\n",
            "8. Slipknot\n",
            "9. Motorhead\n",
            "10. bands\n",
            "Music recommendation for Eva:\n",
            "1. 1. Selena Gomez\n",
            "2. 2. Camila Cabello\n",
            "3. 3. Halsey\n",
            "4. 4. Zara Larsson\n",
            "5. 5. Miley Cyrus\n",
            "6. 6. Justin Bieber\n",
            "7. 7. Ed Sheeran\n",
            "8. 8. Demi\n"
          ]
        }
      ]
    }
  ]
}